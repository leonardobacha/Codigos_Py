{
 "cells": [
  {
   "cell_type": "code",
   "execution_count": 1,
   "id": "7b1c8b6d",
   "metadata": {},
   "outputs": [
    {
     "data": {
      "text/plain": [
       "Município                      object\n",
       "Código IBGE                   float64\n",
       "Motivo                         object\n",
       "Forma                          object\n",
       "Nome                           object\n",
       "Código                         object\n",
       "N° da amostra                  object\n",
       "Data da coleta                 object\n",
       "Data do laudo                  object\n",
       "Data de registro SISAGUA       object\n",
       "Procedência da coleta          object\n",
       "Ponto de coleta                object\n",
       "Categoria da Área              object\n",
       "Zona                           object\n",
       "Área                           object\n",
       "Local                          object\n",
       "Descrição do local             object\n",
       "Latitude                       object\n",
       "Longitude                      object\n",
       "Hora da coleta                 object\n",
       "Chuva nas últimas 48h          object\n",
       "Coliformes totais              object\n",
       "E. coli                        object\n",
       "Cloro Residual Livre(mg/L)     object\n",
       "Turbidez(uT)                   object\n",
       "dtype: object"
      ]
     },
     "execution_count": 1,
     "metadata": {},
     "output_type": "execute_result"
    }
   ],
   "source": [
    "#INDICE DE QUALIDADE\n",
    "#PRIMEIRO TEM QUE SUBSTITUIR OS VALORES \"NAO REALIZADOS\" POR VAZIO NA TABELA\n",
    "import pandas as pd\n",
    "vg = pd.read_excel('relatorio22.xlsx')\n",
    "base = pd.read_excel('base_n_legal.xlsx')\n",
    "vg.dtypes"
   ]
  },
  {
   "cell_type": "code",
   "execution_count": 2,
   "id": "cddb306a",
   "metadata": {},
   "outputs": [
    {
     "data": {
      "text/plain": [
       "Município                      object\n",
       "Código IBGE                   float64\n",
       "Motivo                         object\n",
       "Forma                          object\n",
       "Nome                           object\n",
       "Código                         object\n",
       "N° da amostra                  object\n",
       "Data da coleta                 object\n",
       "Data do laudo                  object\n",
       "Data de registro SISAGUA       object\n",
       "Procedência da coleta          object\n",
       "Ponto de coleta                object\n",
       "Categoria da Área              object\n",
       "Zona                           object\n",
       "Área                           object\n",
       "Local                          object\n",
       "Descrição do local             object\n",
       "Latitude                       object\n",
       "Longitude                      object\n",
       "Hora da coleta                 object\n",
       "Chuva nas últimas 48h          object\n",
       "Coliformes totais              object\n",
       "E. coli                        object\n",
       "Cloro Residual Livre(mg/L)    float64\n",
       "Turbidez(uT)                  float64\n",
       "dtype: object"
      ]
     },
     "execution_count": 2,
     "metadata": {},
     "output_type": "execute_result"
    }
   ],
   "source": [
    "vg['Cloro Residual Livre(mg/L)'] = vg['Cloro Residual Livre(mg/L)'].str.replace(',','.').astype(float)\n",
    "vg['Turbidez(uT)'] = vg['Turbidez(uT)'].str.replace(',','.').astype(float)\n",
    "vg.dtypes"
   ]
  },
  {
   "cell_type": "code",
   "execution_count": 3,
   "id": "eff89ce6",
   "metadata": {
    "scrolled": true
   },
   "outputs": [
    {
     "name": "stdout",
     "output_type": "stream",
     "text": [
      "BELFORD ROXO N: 376 Grupo: C Indice: 1.0 Coliformes Adequados : 1.0 %QUANTIDADE: 0.7\n",
      "DUQUE DE CAXIAS N: 160 Grupo: C Indice: 0.79 Coliformes Adequados : 0.79 %QUANTIDADE: 0.25\n",
      "GUAPIMIRIM N: 178 Grupo: A Indice: 0.95 Coliformes Adequados : 0.86 Cloro Adequado : 1.0 Turbidez Adequada : 1.0 %QUANTIDADEcoli: 0.92 %QUANTIDADEcloro: 0.86 %QUANTIDADEturb: 0.68\n",
      "ITABORAI N: 431 Grupo: C Indice: 0.57 Coliformes Adequados : 0.57 %QUANTIDADE: 1.12\n",
      "ITAGUAI N: 398 Grupo: A Indice: 0.84 Coliformes Adequados : 0.77 Cloro Adequado : 0.91 Turbidez Adequada : 0.85 %QUANTIDADEcoli: 1.44 %QUANTIDADEcloro: 1.32 %QUANTIDADEturb: 1.44\n",
      "JAPERI N: 6 Grupo: C Indice: 0.5 Coliformes Adequados : 0.5 %QUANTIDADE: 0.03\n",
      "MAGE N: 907 Grupo: B Indice: 0.79 Coliformes Adequados : 0.59 Cloro Adequado : 1.0 %QUANTIDADEcoli: 0.92 %QUANTIDADEcloro: 2.21\n",
      "MESQUITA N: 311 Grupo: C Indice: 0.84 Coliformes Adequados : 0.84 %QUANTIDADE: 0.92\n",
      "NILOPOLIS N: 318 Grupo: C Indice: 0.79 Coliformes Adequados : 0.79 %QUANTIDADE: 1.02\n",
      "NITEROI N: 292 Grupo: A Indice: 1.0 Coliformes Adequados : 1.0 Cloro Adequado : 1.0 Turbidez Adequada : 1.0 %QUANTIDADEcoli: 0.13 %QUANTIDADEcloro: 0.54 %QUANTIDADEturb: 0.54\n",
      "NOVA IGUACU N: 635 Grupo: A Indice: 0.93 Coliformes Adequados : 0.85 Cloro Adequado : 1.0 Turbidez Adequada : 0.94 %QUANTIDADEcoli: 1.03 %QUANTIDADEcloro: 1.02 %QUANTIDADEturb: 1.04\n",
      "QUEIMADOS N: 311 Grupo: A Indice: 0.94 Coliformes Adequados : 0.86 Cloro Adequado : 0.99 Turbidez Adequada : 0.95 %QUANTIDADEcoli: 1.02 %QUANTIDADEcloro: 1.03 %QUANTIDADEturb: 1.03\n",
      "RIO DE JANEIRO N: 3758 Grupo: A Indice: 0.91 Coliformes Adequados : 0.85 Cloro Adequado : 0.98 Turbidez Adequada : 0.89 %QUANTIDADEcoli: 1.85 %QUANTIDADEcloro: 1.78 %QUANTIDADEturb: 1.85\n",
      "SAO GONCALO N: 669 Grupo: B Indice: 0.76 Coliformes Adequados : 0.78 Cloro Adequado : 0.75 %QUANTIDADEcoli: 0.98 %QUANTIDADEcloro: 0.62\n",
      "SAO JOAO DE MERITI N: 594 Grupo: A Indice: 0.96 Coliformes Adequados : 0.96 Cloro Adequado : 0.95 Turbidez Adequada : 0.99 %QUANTIDADEcoli: 0.89 %QUANTIDADEcloro: 1.12 %QUANTIDADEturb: 0.89\n",
      "SEROPEDICA N: 205 Grupo: A Indice: 0.9 Coliformes Adequados : 0.69 Cloro Adequado : 1.0 Turbidez Adequada : 1.0 %QUANTIDADEcoli: 0.79 %QUANTIDADEcloro: 0.9 %QUANTIDADEturb: 0.89\n",
      "TANGUA N: 155 Grupo: C Indice: 0.87 Coliformes Adequados : 0.87 %QUANTIDADE: 0.99\n",
      "PARACAMBI N: 165 Grupo: B Indice: 0.91 Coliformes Adequados : 0.82 Cloro Adequado : 1.0 %QUANTIDADEcoli: 0.92 %QUANTIDADEcloro: 0.89\n"
     ]
    }
   ],
   "source": [
    "def VIG(mun):\n",
    "    #criar dcionario\n",
    "    ncola = 0\n",
    "    ncoli = 0\n",
    "    nturba = 0\n",
    "    nturbi = 0\n",
    "    ncla =0\n",
    "    ncli = 0\n",
    "    n = 0\n",
    "    n_legal = 0\n",
    "    \n",
    "    for index, col in base.iterrows():\n",
    "        if col['Município'] == mun:\n",
    "            n_legal = col['N']\n",
    "    \n",
    "    \n",
    "    for index, col in vg.iterrows():\n",
    "        if col['Município'] == mun:\n",
    "            n = n+1\n",
    "            if col['Coliformes totais'] == 'Ausente':\n",
    "                ncola = ncola +1\n",
    "            elif col['Coliformes totais'] == 'Presente':\n",
    "                ncoli = ncoli +1\n",
    "            if col['Cloro Residual Livre(mg/L)'] >= 0.2:\n",
    "                ncla = ncla +1\n",
    "            elif col['Cloro Residual Livre(mg/L)'] < 0.2:\n",
    "                ncli = ncli +1\n",
    "            if col['Turbidez(uT)'] <= 5:\n",
    "                nturba = nturba +1\n",
    "            elif col['Turbidez(uT)'] > 5:\n",
    "                nturbi = nturbi +1\n",
    "\n",
    "    if nturba + nturbi + ncla + ncli + ncola + ncoli == 0:\n",
    "        print(mun, \"Grupo D\")\n",
    "    \n",
    "    elif nturba + nturbi + ncla + ncli == 0:\n",
    "        g = \"C\"\n",
    "        icol = ncola/(ncola+ncoli)\n",
    "        print(mun, \"N:\", n, \"Grupo:\", g, 'Indice:', round(icol,2), \n",
    "              'Coliformes Adequados :', round(icol,2), \"%QUANTIDADE:\", round(((ncola + ncoli)/n_legal),2))\n",
    "    \n",
    "    elif ncla + ncli == 0:\n",
    "        g = \"B\"\n",
    "        icol = ncola/(ncola+ncoli)\n",
    "        iturb = nturba/(nturba+nturbi)\n",
    "        print(mun, \"N:\", n, \"Grupo:\", g, 'Indice:', round(((icol + iturb)/2),2),\n",
    "              'Coliformes Adequados :', round(icol,2), 'Turbidez Adequada :', round(iturb,2) , \"%QUANTIDADEcoli:\", round(((ncola + ncoli)/n_legal),2), \n",
    "              \"%QUANTIDADEturb:\", round(((nturba + nturbi)/n_legal),2))\n",
    "    elif nturba + nturbi == 0:\n",
    "        g = \"B\"\n",
    "        icol = ncola/(ncola+ncoli)\n",
    "        iclo = ncla/(ncla+ncli)\n",
    "        print(mun, \"N:\", n, \"Grupo:\", g, 'Indice:', round(((icol + iclo)/2),2),\n",
    "              'Coliformes Adequados :', round(icol,2), 'Cloro Adequado :', round(iclo,2), \"%QUANTIDADEcoli:\", round(((ncola + ncoli)/n_legal),2), \n",
    "              \"%QUANTIDADEcloro:\", round(((ncla + ncli)/n_legal),2))\n",
    "   \n",
    "    else:\n",
    "        g = \"A\"\n",
    "        icol = ncola/(ncola+ncoli)\n",
    "        iclo = ncla/(ncla+ncli)\n",
    "        iturb = nturba/(nturba+nturbi)\n",
    "        print(mun, \"N:\", n, \"Grupo:\", g, 'Indice:', round(((icol + iturb + iclo)/3),2), \n",
    "              'Coliformes Adequados :', round(ncola/(ncola+ncoli),2), 'Cloro Adequado :', round(ncla/(ncla+ncli),2),\n",
    "              'Turbidez Adequada :', round(nturba/(nturba+nturbi),2), \"%QUANTIDADEcoli:\", round(((ncola + ncoli)/n_legal),2), \n",
    "              \"%QUANTIDADEcloro:\", round(((ncla + ncli)/n_legal),2), \"%QUANTIDADEturb:\", round(((nturba + nturbi)/n_legal),2))\n",
    "\n",
    "        \n",
    "   # print(n_legal,nturbi,nturba)\n",
    "RM = [\"BELFORD ROXO\", \"DUQUE DE CAXIAS\", \"GUAPIMIRIM\", \"ITABORAI\", 'ITAGUAI', 'JAPERI', 'MAGE',\n",
    "     'MESQUITA', 'NILOPOLIS', 'NITEROI', 'NOVA IGUACU', 'QUEIMADOS', 'RIO DE JANEIRO','SAO GONCALO',\n",
    "      'SAO JOAO DE MERITI', 'SEROPEDICA', 'TANGUA', \"PARACAMBI\"]\n",
    "\n",
    "\n",
    "\n",
    "def cVIG(conj):\n",
    "    for i in conj:\n",
    "        #if i in vg.Município:\n",
    "            VIG(i)\n",
    "        #else:\n",
    "            #print(i, \"Grupo D\")\n",
    "\n",
    "cVIG(RM)  "
   ]
  },
  {
   "cell_type": "code",
   "execution_count": 4,
   "id": "1597d5e3",
   "metadata": {},
   "outputs": [
    {
     "name": "stdout",
     "output_type": "stream",
     "text": [
      "CACHOEIRAS DE MACACU N: 270 Grupo: A Indice: 0.74 Coliformes Adequados : 0.63 Cloro Adequado : 0.84 Turbidez Adequada : 0.74 %QUANTIDADEcoli: 0.92 %QUANTIDADEcloro: 0.91 %QUANTIDADEturb: 0.91\n"
     ]
    }
   ],
   "source": [
    "#agora 2022 - teste Piraí\n",
    "\n",
    "VIG('CACHOEIRAS DE MACACU')\n",
    "# para você deixar completo, deve inserir uma tabela com os demais dados e comaprá-los.\n",
    "#isso foi feito, porém agora, deve atualizar N..."
   ]
  },
  {
   "cell_type": "code",
   "execution_count": 5,
   "id": "318b45fc",
   "metadata": {},
   "outputs": [
    {
     "name": "stdout",
     "output_type": "stream",
     "text": [
      "PETROPOLIS N: 982 Grupo: A Indice: 0.87 Coliformes Adequados : 0.84 Cloro Adequado : 0.81 Turbidez Adequada : 0.96 %QUANTIDADEcoli: 2.29 %QUANTIDADEcloro: 2.12 %QUANTIDADEturb: 2.27\n"
     ]
    }
   ],
   "source": [
    "VIG('PETROPOLIS')"
   ]
  },
  {
   "cell_type": "code",
   "execution_count": 6,
   "id": "befbb22a",
   "metadata": {},
   "outputs": [
    {
     "name": "stdout",
     "output_type": "stream",
     "text": [
      "RIO BONITO N: 190 Grupo: A Indice: 0.94 Coliformes Adequados : 0.87 Cloro Adequado : 0.96 Turbidez Adequada : 0.98 %QUANTIDADEcoli: 0.99 %QUANTIDADEcloro: 0.99 %QUANTIDADEturb: 0.99\n"
     ]
    }
   ],
   "source": [
    "VIG('RIO BONITO')"
   ]
  },
  {
   "cell_type": "code",
   "execution_count": null,
   "id": "ac085bd1",
   "metadata": {},
   "outputs": [],
   "source": []
  }
 ],
 "metadata": {
  "kernelspec": {
   "display_name": "Python 3 (ipykernel)",
   "language": "python",
   "name": "python3"
  },
  "language_info": {
   "codemirror_mode": {
    "name": "ipython",
    "version": 3
   },
   "file_extension": ".py",
   "mimetype": "text/x-python",
   "name": "python",
   "nbconvert_exporter": "python",
   "pygments_lexer": "ipython3",
   "version": "3.9.13"
  }
 },
 "nbformat": 4,
 "nbformat_minor": 5
}
